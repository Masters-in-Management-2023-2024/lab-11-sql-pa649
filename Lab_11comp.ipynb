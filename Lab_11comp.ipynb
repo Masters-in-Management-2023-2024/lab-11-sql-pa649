{
  "cells": [
    {
      "cell_type": "markdown",
      "metadata": {
        "id": "q90O7uY_r7CQ"
      },
      "source": [
        "# Lab Exercise: SQL Analysis with Polars\n",
        "\n",
        "In this lab, you'll practice SQL queries using Polars' built-in SQL functionality. Complete each exercise by writing the appropriate SQL query."
      ]
    },
    {
      "cell_type": "code",
      "execution_count": 6,
      "metadata": {
        "colab": {
          "base_uri": "https://localhost:8080/"
        },
        "id": "6pLA_0uDr7CS",
        "outputId": "ec2fd68b-0767-45e6-a397-f05e24e75191"
      },
      "outputs": [
        {
          "output_type": "stream",
          "name": "stdout",
          "text": [
            "Setup complete! Tables available:\n",
            "shape: (5, 1)\n",
            "┌──────────┐\n",
            "│ name     │\n",
            "│ ---      │\n",
            "│ str      │\n",
            "╞══════════╡\n",
            "│ airlines │\n",
            "│ airports │\n",
            "│ flights  │\n",
            "│ planes   │\n",
            "│ weather  │\n",
            "└──────────┘\n"
          ]
        },
        {
          "output_type": "stream",
          "name": "stderr",
          "text": [
            "/tmp/ipython-input-1095852092.py:36: DeprecationWarning: The argument `eager_execution` for `SQLContext.__init__` is deprecated. It has been renamed to `eager`.\n",
            "  ctx = pl.SQLContext(\n"
          ]
        }
      ],
      "source": [
        "# Setup - Run this cell first\n",
        "import polars as pl\n",
        "\n",
        "# Define schema for weather data to ensure 'precip' is read as a float\n",
        "weather_schema = {\n",
        "    \"origin\": pl.Utf8,\n",
        "    \"year\": pl.Int64,\n",
        "    \"month\": pl.Int64,\n",
        "    \"day\": pl.Int64,\n",
        "    \"hour\": pl.Int64,\n",
        "    \"temp\": pl.Float64,\n",
        "    \"dewp\": pl.Float64,\n",
        "    \"humid\": pl.Float64,\n",
        "    \"wind_dir\": pl.Int64,\n",
        "    \"wind_speed\": pl.Float64,\n",
        "    \"wind_gust\": pl.Float64,\n",
        "    \"precip\": pl.Float64,  # Explicitly set precip to Float64\n",
        "    \"pressure\": pl.Float64,\n",
        "    \"visib\": pl.Float64,\n",
        "    \"time_hour\": pl.Utf8,\n",
        "}\n",
        "\n",
        "\n",
        "# Load data\n",
        "airlines = pl.read_csv('https://raw.githubusercontent.com/philhetzel/opan5510-class11/refs/heads/main/data/nyc_airlines.csv')\n",
        "airports = pl.read_csv('https://raw.githubusercontent.com/philhetzel/opan5510-class11/refs/heads/main/data/nyc_airports.csv')\n",
        "flights = pl.read_csv('https://raw.githubusercontent.com/philhetzel/opan5510-class11/refs/heads/main/data/nyc_flights.csv', null_values=['NA'])\n",
        "planes = pl.read_csv('https://raw.githubusercontent.com/philhetzel/opan5510-class11/refs/heads/main/data/nyc_planes.csv', null_values=['NA'])\n",
        "weather = pl.read_csv('https://raw.githubusercontent.com/philhetzel/opan5510-class11/refs/heads/main/data/nyc_weather.csv', null_values=['NA'], schema=weather_schema)\n",
        "\n",
        "\n",
        "flights = flights.with_columns(pl.col(\"time_hour\").str.strptime(pl.Datetime))\n",
        "weather = weather.with_columns(pl.col(\"time_hour\").str.strptime(pl.Datetime))\n",
        "\n",
        "# Create SQL context\n",
        "ctx = pl.SQLContext(\n",
        "    airlines=airlines,\n",
        "    airports=airports,\n",
        "    flights=flights,\n",
        "    planes=planes,\n",
        "    weather=weather,\n",
        "    eager_execution=True\n",
        ")\n",
        "\n",
        "print(\"Setup complete! Tables available:\")\n",
        "print(ctx.execute(\"SHOW TABLES\"))"
      ]
    },
    {
      "cell_type": "markdown",
      "metadata": {
        "id": "wsSwMom2r7CT"
      },
      "source": [
        "## Exercise 1: Basic Queries\n",
        "\n",
        "### 1.1 Find all unique carriers in the airlines table"
      ]
    },
    {
      "cell_type": "code",
      "execution_count": 7,
      "metadata": {
        "colab": {
          "base_uri": "https://localhost:8080/"
        },
        "id": "Oj887DCBr7CU",
        "outputId": "3b0a6622-f6ad-4d9d-bffd-a848657afd02"
      },
      "outputs": [
        {
          "output_type": "stream",
          "name": "stdout",
          "text": [
            "shape: (16, 2)\n",
            "┌─────────┬────────────────────────┐\n",
            "│ carrier ┆ name                   │\n",
            "│ ---     ┆ ---                    │\n",
            "│ str     ┆ str                    │\n",
            "╞═════════╪════════════════════════╡\n",
            "│ 9E      ┆ Endeavor Air Inc.      │\n",
            "│ AA      ┆ American Airlines Inc. │\n",
            "│ AS      ┆ Alaska Airlines Inc.   │\n",
            "│ B6      ┆ JetBlue Airways        │\n",
            "│ DL      ┆ Delta Air Lines Inc.   │\n",
            "│ …       ┆ …                      │\n",
            "│ UA      ┆ United Air Lines Inc.  │\n",
            "│ US      ┆ US Airways Inc.        │\n",
            "│ VX      ┆ Virgin America         │\n",
            "│ WN      ┆ Southwest Airlines Co. │\n",
            "│ YV      ┆ Mesa Airlines Inc.     │\n",
            "└─────────┴────────────────────────┘\n"
          ]
        }
      ],
      "source": [
        "\n",
        "result1 = ctx.execute(\"\"\"\n",
        "    SELECT DISTINCT carrier, name\n",
        "    FROM airlines\n",
        "\"\"\")\n",
        "\n",
        "print(result1)"
      ]
    },
    {
      "cell_type": "markdown",
      "metadata": {
        "id": "EWMGqLphr7CU"
      },
      "source": [
        "### 1.2 Find the top 10 destinations by number of flights"
      ]
    },
    {
      "cell_type": "code",
      "execution_count": 8,
      "metadata": {
        "colab": {
          "base_uri": "https://localhost:8080/"
        },
        "id": "GkMtQGRer7CU",
        "outputId": "a95e4a31-7957-48df-d578-1954daeb5e06"
      },
      "outputs": [
        {
          "output_type": "stream",
          "name": "stdout",
          "text": [
            "shape: (10, 2)\n",
            "┌──────┬─────────────┐\n",
            "│ dest ┆ num_flights │\n",
            "│ ---  ┆ ---         │\n",
            "│ str  ┆ u32         │\n",
            "╞══════╪═════════════╡\n",
            "│ ORD  ┆ 17283       │\n",
            "│ ATL  ┆ 17215       │\n",
            "│ LAX  ┆ 16174       │\n",
            "│ BOS  ┆ 15508       │\n",
            "│ MCO  ┆ 14082       │\n",
            "│ CLT  ┆ 14064       │\n",
            "│ SFO  ┆ 13331       │\n",
            "│ FLL  ┆ 12055       │\n",
            "│ MIA  ┆ 11728       │\n",
            "│ DCA  ┆ 9705        │\n",
            "└──────┴─────────────┘\n"
          ]
        }
      ],
      "source": [
        "\n",
        "\n",
        "result2 = ctx.execute(\"\"\"\n",
        "    SELECT dest, COUNT(*) AS num_flights\n",
        "    FROM flights\n",
        "    GROUP BY dest\n",
        "    ORDER BY num_flights DESC\n",
        "    LIMIT 10\n",
        "\"\"\")\n",
        "\n",
        "print(result2)"
      ]
    },
    {
      "cell_type": "markdown",
      "metadata": {
        "id": "saxMiH2mr7CV"
      },
      "source": [
        "### 1.3 Find all flights that departed more than 2 hours late (120 minutes)"
      ]
    },
    {
      "cell_type": "code",
      "execution_count": 9,
      "metadata": {
        "colab": {
          "base_uri": "https://localhost:8080/"
        },
        "id": "JIa24kEDr7CV",
        "outputId": "fd5775aa-700d-47a5-aaa4-9fc36081d893"
      },
      "outputs": [
        {
          "output_type": "stream",
          "name": "stdout",
          "text": [
            "shape: (9_723, 19)\n",
            "┌──────┬───────┬─────┬──────────┬───┬──────────┬──────┬────────┬─────────────────────────┐\n",
            "│ year ┆ month ┆ day ┆ dep_time ┆ … ┆ distance ┆ hour ┆ minute ┆ time_hour               │\n",
            "│ ---  ┆ ---   ┆ --- ┆ ---      ┆   ┆ ---      ┆ ---  ┆ ---    ┆ ---                     │\n",
            "│ i64  ┆ i64   ┆ i64 ┆ i64      ┆   ┆ i64      ┆ i64  ┆ i64    ┆ datetime[μs, UTC]       │\n",
            "╞══════╪═══════╪═════╪══════════╪═══╪══════════╪══════╪════════╪═════════════════════════╡\n",
            "│ 2013 ┆ 1     ┆ 1   ┆ 848      ┆ … ┆ 184      ┆ 18   ┆ 35     ┆ 2013-01-01 23:00:00 UTC │\n",
            "│ 2013 ┆ 1     ┆ 1   ┆ 957      ┆ … ┆ 200      ┆ 7    ┆ 33     ┆ 2013-01-01 12:00:00 UTC │\n",
            "│ 2013 ┆ 1     ┆ 1   ┆ 1114     ┆ … ┆ 1416     ┆ 9    ┆ 0      ┆ 2013-01-01 14:00:00 UTC │\n",
            "│ 2013 ┆ 1     ┆ 1   ┆ 1540     ┆ … ┆ 1598     ┆ 13   ┆ 38     ┆ 2013-01-01 18:00:00 UTC │\n",
            "│ 2013 ┆ 1     ┆ 1   ┆ 1815     ┆ … ┆ 1134     ┆ 13   ┆ 25     ┆ 2013-01-01 18:00:00 UTC │\n",
            "│ …    ┆ …     ┆ …   ┆ …        ┆ … ┆ …        ┆ …    ┆ …      ┆ …                       │\n",
            "│ 2013 ┆ 9     ┆ 30  ┆ 1823     ┆ … ┆ 765      ┆ 15   ┆ 45     ┆ 2013-09-30 19:00:00 UTC │\n",
            "│ 2013 ┆ 9     ┆ 30  ┆ 1951     ┆ … ┆ 708      ┆ 16   ┆ 49     ┆ 2013-09-30 20:00:00 UTC │\n",
            "│ 2013 ┆ 9     ┆ 30  ┆ 2053     ┆ … ┆ 746      ┆ 18   ┆ 15     ┆ 2013-09-30 22:00:00 UTC │\n",
            "│ 2013 ┆ 9     ┆ 30  ┆ 2159     ┆ … ┆ 301      ┆ 18   ┆ 45     ┆ 2013-09-30 22:00:00 UTC │\n",
            "│ 2013 ┆ 9     ┆ 30  ┆ 2235     ┆ … ┆ 944      ┆ 20   ┆ 1      ┆ 2013-10-01 00:00:00 UTC │\n",
            "└──────┴───────┴─────┴──────────┴───┴──────────┴──────┴────────┴─────────────────────────┘\n"
          ]
        }
      ],
      "source": [
        "result3 = ctx.execute(\"\"\"\n",
        "    SELECT *\n",
        "    FROM flights\n",
        "    WHERE dep_delay > 120\n",
        "\"\"\")\n",
        "\n",
        "print(result3)"
      ]
    },
    {
      "cell_type": "markdown",
      "metadata": {
        "id": "a117Eh_Wr7CV"
      },
      "source": [
        "## Exercise 2: Aggregation\n",
        "\n",
        "### 2.1 Calculate the average departure delay for each origin airport"
      ]
    },
    {
      "cell_type": "code",
      "execution_count": 10,
      "metadata": {
        "colab": {
          "base_uri": "https://localhost:8080/"
        },
        "id": "eF9oytfqr7CW",
        "outputId": "0ca6371e-be84-4eca-df65-53f47f5a3870"
      },
      "outputs": [
        {
          "output_type": "stream",
          "name": "stdout",
          "text": [
            "shape: (3, 2)\n",
            "┌────────┬───────────────┐\n",
            "│ origin ┆ avg_dep_delay │\n",
            "│ ---    ┆ ---           │\n",
            "│ str    ┆ f64           │\n",
            "╞════════╪═══════════════╡\n",
            "│ JFK    ┆ 12.112159     │\n",
            "│ LGA    ┆ 10.346876     │\n",
            "│ EWR    ┆ 15.107954     │\n",
            "└────────┴───────────────┘\n"
          ]
        }
      ],
      "source": [
        "result4 = ctx.execute(\"\"\"\n",
        "    SELECT origin, AVG(dep_delay) AS avg_dep_delay\n",
        "    FROM flights\n",
        "    GROUP BY origin\n",
        "\"\"\")\n",
        "\n",
        "print(result4)"
      ]
    },
    {
      "cell_type": "markdown",
      "metadata": {
        "id": "KLHYieWWr7CW"
      },
      "source": [
        "### 2.2 Find the busiest month of the year\n",
        "\n",
        "Count the number of flights per month and find which month has the most flights."
      ]
    },
    {
      "cell_type": "code",
      "execution_count": 13,
      "metadata": {
        "colab": {
          "base_uri": "https://localhost:8080/"
        },
        "id": "eMbNa-6Nr7CW",
        "outputId": "d7319d6a-168d-43a3-fb6d-c9154e10a360"
      },
      "outputs": [
        {
          "output_type": "stream",
          "name": "stdout",
          "text": [
            "shape: (5, 19)\n",
            "┌──────┬───────┬─────┬──────────┬───┬──────────┬──────┬────────┬─────────────────────────┐\n",
            "│ year ┆ month ┆ day ┆ dep_time ┆ … ┆ distance ┆ hour ┆ minute ┆ time_hour               │\n",
            "│ ---  ┆ ---   ┆ --- ┆ ---      ┆   ┆ ---      ┆ ---  ┆ ---    ┆ ---                     │\n",
            "│ i64  ┆ i64   ┆ i64 ┆ i64      ┆   ┆ i64      ┆ i64  ┆ i64    ┆ datetime[μs, UTC]       │\n",
            "╞══════╪═══════╪═════╪══════════╪═══╪══════════╪══════╪════════╪═════════════════════════╡\n",
            "│ 2013 ┆ 1     ┆ 1   ┆ 517      ┆ … ┆ 1400     ┆ 5    ┆ 15     ┆ 2013-01-01 10:00:00 UTC │\n",
            "│ 2013 ┆ 1     ┆ 1   ┆ 533      ┆ … ┆ 1416     ┆ 5    ┆ 29     ┆ 2013-01-01 10:00:00 UTC │\n",
            "│ 2013 ┆ 1     ┆ 1   ┆ 542      ┆ … ┆ 1089     ┆ 5    ┆ 40     ┆ 2013-01-01 10:00:00 UTC │\n",
            "│ 2013 ┆ 1     ┆ 1   ┆ 544      ┆ … ┆ 1576     ┆ 5    ┆ 45     ┆ 2013-01-01 10:00:00 UTC │\n",
            "│ 2013 ┆ 1     ┆ 1   ┆ 554      ┆ … ┆ 762      ┆ 6    ┆ 0      ┆ 2013-01-01 11:00:00 UTC │\n",
            "└──────┴───────┴─────┴──────────┴───┴──────────┴──────┴────────┴─────────────────────────┘\n",
            "shape: (1, 2)\n",
            "┌───────┬─────────────┐\n",
            "│ month ┆ num_flights │\n",
            "│ ---   ┆ ---         │\n",
            "│ i64   ┆ u32         │\n",
            "╞═══════╪═════════════╡\n",
            "│ 7     ┆ 29425       │\n",
            "└───────┴─────────────┘\n",
            "shape: (12, 2)\n",
            "┌───────┬─────────────┐\n",
            "│ month ┆ num_flights │\n",
            "│ ---   ┆ ---         │\n",
            "│ i64   ┆ u32         │\n",
            "╞═══════╪═════════════╡\n",
            "│ 7     ┆ 29425       │\n",
            "│ 8     ┆ 29327       │\n",
            "│ 10    ┆ 28889       │\n",
            "│ 3     ┆ 28834       │\n",
            "│ 5     ┆ 28796       │\n",
            "│ …     ┆ …           │\n",
            "│ 12    ┆ 28135       │\n",
            "│ 9     ┆ 27574       │\n",
            "│ 11    ┆ 27268       │\n",
            "│ 1     ┆ 27004       │\n",
            "│ 2     ┆ 24951       │\n",
            "└───────┴─────────────┘\n"
          ]
        }
      ],
      "source": [
        "result5 = ctx.execute(\"\"\"\n",
        "    SELECT *\n",
        "    FROM flights\n",
        "    LIMIT 5\n",
        "\"\"\")\n",
        "\n",
        "print(result5)\n",
        "\n",
        "result6 = ctx.execute(\"\"\"\n",
        "    SELECT month, COUNT(*) AS num_flights\n",
        "    FROM flights\n",
        "    GROUP BY month\n",
        "    ORDER BY num_flights DESC\n",
        "    LIMIT 1\n",
        "\"\"\")\n",
        "\n",
        "print(result6)\n",
        "\n",
        "result7 = ctx.execute(\"\"\"\n",
        "    SELECT month, COUNT(*) AS num_flights\n",
        "    FROM flights\n",
        "    GROUP BY month\n",
        "    ORDER BY num_flights DESC\n",
        "\"\"\")\n",
        "\n",
        "print(result7)"
      ]
    },
    {
      "cell_type": "markdown",
      "metadata": {
        "id": "r2SoH02jr7CX"
      },
      "source": [
        "### 2.3 Calculate the on-time performance rate for each carrier\n",
        "\n",
        "Consider a flight on-time if the departure delay is <= 15 minutes."
      ]
    },
    {
      "cell_type": "code",
      "execution_count": 14,
      "metadata": {
        "colab": {
          "base_uri": "https://localhost:8080/"
        },
        "id": "EwOeN_ewr7CX",
        "outputId": "95c7aee7-6b2d-484c-bad1-39cd5b3b12e6"
      },
      "outputs": [
        {
          "output_type": "stream",
          "name": "stdout",
          "text": [
            "shape: (16, 2)\n",
            "┌─────────┬──────────────┐\n",
            "│ carrier ┆ on_time_rate │\n",
            "│ ---     ┆ ---          │\n",
            "│ str     ┆ f64          │\n",
            "╞═════════╪══════════════╡\n",
            "│ HA      ┆ 0.929825     │\n",
            "│ AS      ┆ 0.865546     │\n",
            "│ US      ┆ 0.849873     │\n",
            "│ DL      ┆ 0.830742     │\n",
            "│ AA      ┆ 0.824376     │\n",
            "│ …       ┆ …            │\n",
            "│ FL      ┆ 0.716871     │\n",
            "│ F9      ┆ 0.715328     │\n",
            "│ 9E      ┆ 0.701246     │\n",
            "│ EV      ┆ 0.659221     │\n",
            "│ YV      ┆ 0.647255     │\n",
            "└─────────┴──────────────┘\n"
          ]
        }
      ],
      "source": [
        "result8 = ctx.execute(\"\"\"\n",
        "    SELECT carrier,\n",
        "           AVG(CASE WHEN dep_delay <= 15 THEN 1.0 ELSE 0.0 END) AS on_time_rate\n",
        "    FROM flights\n",
        "    GROUP BY carrier\n",
        "    ORDER BY on_time_rate DESC\n",
        "\"\"\")\n",
        "\n",
        "print(result8)"
      ]
    },
    {
      "cell_type": "markdown",
      "metadata": {
        "id": "GDP_oeSZr7CX"
      },
      "source": [
        "## Exercise 3: Joins\n",
        "\n",
        "### 3.1 List all flights with their airline names (not just carrier codes)\n",
        "\n",
        "Show the first 20 flights with carrier code, airline name, flight number, origin, and destination."
      ]
    },
    {
      "cell_type": "code",
      "execution_count": 15,
      "metadata": {
        "colab": {
          "base_uri": "https://localhost:8080/"
        },
        "id": "lNeqaN9Nr7CX",
        "outputId": "613ee15c-9c6c-4b84-a61e-1f4d8bdbeed5"
      },
      "outputs": [
        {
          "output_type": "stream",
          "name": "stdout",
          "text": [
            "shape: (20, 5)\n",
            "┌─────────┬────────────────────────┬────────┬────────┬──────┐\n",
            "│ carrier ┆ airline_name           ┆ flight ┆ origin ┆ dest │\n",
            "│ ---     ┆ ---                    ┆ ---    ┆ ---    ┆ ---  │\n",
            "│ str     ┆ str                    ┆ i64    ┆ str    ┆ str  │\n",
            "╞═════════╪════════════════════════╪════════╪════════╪══════╡\n",
            "│ UA      ┆ United Air Lines Inc.  ┆ 1545   ┆ EWR    ┆ IAH  │\n",
            "│ UA      ┆ United Air Lines Inc.  ┆ 1714   ┆ LGA    ┆ IAH  │\n",
            "│ AA      ┆ American Airlines Inc. ┆ 1141   ┆ JFK    ┆ MIA  │\n",
            "│ B6      ┆ JetBlue Airways        ┆ 725    ┆ JFK    ┆ BQN  │\n",
            "│ DL      ┆ Delta Air Lines Inc.   ┆ 461    ┆ LGA    ┆ ATL  │\n",
            "│ …       ┆ …                      ┆ …      ┆ …      ┆ …    │\n",
            "│ B6      ┆ JetBlue Airways        ┆ 1806   ┆ JFK    ┆ BOS  │\n",
            "│ UA      ┆ United Air Lines Inc.  ┆ 1187   ┆ EWR    ┆ LAS  │\n",
            "│ B6      ┆ JetBlue Airways        ┆ 371    ┆ LGA    ┆ FLL  │\n",
            "│ MQ      ┆ Envoy Air              ┆ 4650   ┆ LGA    ┆ ATL  │\n",
            "│ B6      ┆ JetBlue Airways        ┆ 343    ┆ EWR    ┆ PBI  │\n",
            "└─────────┴────────────────────────┴────────┴────────┴──────┘\n"
          ]
        }
      ],
      "source": [
        "result9 = ctx.execute(\"\"\"\n",
        "    SELECT f.carrier,\n",
        "           a.name AS airline_name,\n",
        "           f.flight,\n",
        "           f.origin,\n",
        "           f.dest\n",
        "    FROM flights f\n",
        "    JOIN airlines a\n",
        "      ON f.carrier = a.carrier\n",
        "    LIMIT 20\n",
        "\"\"\")\n",
        "\n",
        "print(result9)"
      ]
    },
    {
      "cell_type": "markdown",
      "metadata": {
        "id": "xLOEguAHr7CY"
      },
      "source": [
        "### 3.2 Find the average age of planes for each carrier\n",
        "\n",
        "Hint: The planes table has a `year` column for manufacture year. Calculate age based on 2013."
      ]
    },
    {
      "cell_type": "code",
      "execution_count": 16,
      "metadata": {
        "colab": {
          "base_uri": "https://localhost:8080/"
        },
        "id": "deBtH3Exr7CY",
        "outputId": "d34c757f-9f07-43fb-c051-c2c0940f7084"
      },
      "outputs": [
        {
          "output_type": "stream",
          "name": "stdout",
          "text": [
            "shape: (16, 2)\n",
            "┌─────────┬───────────────┐\n",
            "│ carrier ┆ avg_plane_age │\n",
            "│ ---     ┆ ---           │\n",
            "│ str     ┆ f64           │\n",
            "╞═════════╪═══════════════╡\n",
            "│ VX      ┆ 4.473643      │\n",
            "│ HA      ┆ 1.548387      │\n",
            "│ UA      ┆ 13.207691     │\n",
            "│ WN      ┆ 9.146052      │\n",
            "│ AS      ┆ 3.33662       │\n",
            "│ …       ┆ …             │\n",
            "│ EV      ┆ 11.308998     │\n",
            "│ F9      ┆ 4.87874       │\n",
            "│ DL      ┆ 16.372169     │\n",
            "│ FL      ┆ 11.385829     │\n",
            "│ YV      ┆ 9.313758      │\n",
            "└─────────┴───────────────┘\n"
          ]
        }
      ],
      "source": [
        "result10 = ctx.execute(\"\"\"\n",
        "    SELECT f.carrier,\n",
        "           AVG(2013 - p.year) AS avg_plane_age\n",
        "    FROM flights f\n",
        "    JOIN planes p\n",
        "      ON f.tailnum = p.tailnum\n",
        "    WHERE p.year IS NOT NULL\n",
        "    GROUP BY f.carrier\n",
        "\"\"\")\n",
        "\n",
        "print(result10)"
      ]
    },
    {
      "cell_type": "markdown",
      "metadata": {
        "id": "mh4uCPZWr7CY"
      },
      "source": [
        "### 3.3 Find flights that experienced both departure delays and bad weather\n",
        "\n",
        "Join flights with weather data and find flights where departure delay > 30 minutes and either wind_speed > 20 or precip > 0.1"
      ]
    },
    {
      "cell_type": "code",
      "execution_count": 17,
      "metadata": {
        "colab": {
          "base_uri": "https://localhost:8080/"
        },
        "id": "B9-oaXEjr7CY",
        "outputId": "c062d3ad-7409-4748-bb3b-b5df5165be05"
      },
      "outputs": [
        {
          "output_type": "stream",
          "name": "stdout",
          "text": [
            "shape: (4_938, 10)\n",
            "┌──────┬───────┬─────┬──────┬───┬────────┬───────────┬────────────┬────────┐\n",
            "│ year ┆ month ┆ day ┆ hour ┆ … ┆ flight ┆ dep_delay ┆ wind_speed ┆ precip │\n",
            "│ ---  ┆ ---   ┆ --- ┆ ---  ┆   ┆ ---    ┆ ---       ┆ ---        ┆ ---    │\n",
            "│ i64  ┆ i64   ┆ i64 ┆ i64  ┆   ┆ i64    ┆ i64       ┆ f64        ┆ f64    │\n",
            "╞══════╪═══════╪═════╪══════╪═══╪════════╪═══════════╪════════════╪════════╡\n",
            "│ 2013 ┆ 1     ┆ 1   ┆ 21   ┆ … ┆ 21     ┆ 47        ┆ 21.86482   ┆ 0.0    │\n",
            "│ 2013 ┆ 1     ┆ 1   ┆ 21   ┆ … ┆ 199    ┆ 116       ┆ 21.86482   ┆ 0.0    │\n",
            "│ 2013 ┆ 1     ┆ 4   ┆ 11   ┆ … ┆ 4090   ┆ 39        ┆ 20.71404   ┆ 0.0    │\n",
            "│ 2013 ┆ 1     ┆ 4   ┆ 13   ┆ … ┆ 4231   ┆ 40        ┆ 24.16638   ┆ 0.0    │\n",
            "│ 2013 ┆ 1     ┆ 4   ┆ 14   ┆ … ┆ 1010   ┆ 33        ┆ 20.71404   ┆ 0.0    │\n",
            "│ …    ┆ …     ┆ …   ┆ …    ┆ … ┆ …      ┆ …         ┆ …          ┆ …      │\n",
            "│ 2013 ┆ 9     ┆ 22  ┆ 14   ┆ … ┆ 2347   ┆ 41        ┆ 20.71404   ┆ 0.0    │\n",
            "│ 2013 ┆ 9     ┆ 22  ┆ 18   ┆ … ┆ 5503   ┆ 97        ┆ 20.71404   ┆ 0.0    │\n",
            "│ 2013 ┆ 9     ┆ 22  ┆ 20   ┆ … ┆ 135    ┆ 42        ┆ 21.86482   ┆ 0.0    │\n",
            "│ 2013 ┆ 9     ┆ 22  ┆ 20   ┆ … ┆ 797    ┆ 46        ┆ 21.86482   ┆ 0.0    │\n",
            "│ 2013 ┆ 9     ┆ 22  ┆ 20   ┆ … ┆ 985    ┆ 45        ┆ 21.86482   ┆ 0.0    │\n",
            "└──────┴───────┴─────┴──────┴───┴────────┴───────────┴────────────┴────────┘\n"
          ]
        }
      ],
      "source": [
        "result11 = ctx.execute(\"\"\"\n",
        "    SELECT f.year, f.month, f.day, f.hour,\n",
        "           f.origin, f.dest, f.flight,\n",
        "           f.dep_delay,\n",
        "           w.wind_speed, w.precip\n",
        "    FROM flights f\n",
        "    JOIN weather w\n",
        "      ON f.origin = w.origin\n",
        "     AND f.year = w.year\n",
        "     AND f.month = w.month\n",
        "     AND f.day = w.day\n",
        "     AND f.hour = w.hour\n",
        "    WHERE f.dep_delay > 30\n",
        "      AND (w.wind_speed > 20 OR w.precip > 0.1)\n",
        "\"\"\")\n",
        "\n",
        "print(result11)"
      ]
    },
    {
      "cell_type": "markdown",
      "metadata": {
        "id": "4VMWCBAgr7CZ"
      },
      "source": [
        "## Exercise 4: Advanced Queries\n",
        "\n",
        "### 4.1 Find the most popular aircraft types (by number of flights)\n",
        "\n",
        "Join flights with planes to get manufacturer and model information. Show top 10."
      ]
    },
    {
      "cell_type": "code",
      "execution_count": 23,
      "metadata": {
        "colab": {
          "base_uri": "https://localhost:8080/"
        },
        "id": "QG537fzzr7CZ",
        "outputId": "0d9cd48b-5b80-4a52-a2c3-9f9a5927c70e"
      },
      "outputs": [
        {
          "output_type": "stream",
          "name": "stdout",
          "text": [
            "shape: (10, 2)\n",
            "┌─────────────────────────────────┬─────────────┐\n",
            "│ aircraft_type                   ┆ num_flights │\n",
            "│ ---                             ┆ ---         │\n",
            "│ str                             ┆ u32         │\n",
            "╞═════════════════════════════════╪═════════════╡\n",
            "│ AIRBUS A320-232                 ┆ 31278       │\n",
            "│ EMBRAER EMB-145LR               ┆ 28027       │\n",
            "│ EMBRAER ERJ 190-100 IGW         ┆ 23716       │\n",
            "│ AIRBUS INDUSTRIE A320-232       ┆ 14553       │\n",
            "│ EMBRAER EMB-145XR               ┆ 14051       │\n",
            "│ BOEING 737-824                  ┆ 13809       │\n",
            "│ BOMBARDIER INC CL-600-2D24      ┆ 11807       │\n",
            "│ BOEING 737-7H4                  ┆ 10389       │\n",
            "│ BOEING 757-222                  ┆ 9150        │\n",
            "│ MCDONNELL DOUGLAS AIRCRAFT CO … ┆ 8932        │\n",
            "└─────────────────────────────────┴─────────────┘\n"
          ]
        }
      ],
      "source": [
        "result12 = ctx.execute(\"\"\"\n",
        "    SELECT\n",
        "        p.manufacturer || ' ' || p.model AS aircraft_type,\n",
        "        COUNT(*) AS num_flights\n",
        "    FROM flights f\n",
        "    JOIN planes p\n",
        "      ON f.tailnum = p.tailnum\n",
        "    GROUP BY p.manufacturer, p.model\n",
        "    ORDER BY num_flights DESC\n",
        "    LIMIT 10\n",
        "\"\"\")\n",
        "\n",
        "print(result12)"
      ]
    },
    {
      "cell_type": "markdown",
      "metadata": {
        "id": "Qtf1hwRFr7CZ"
      },
      "source": [
        "### 4.2 Analyze route performance\n",
        "\n",
        "Find the top 10 routes (origin-destination pairs) with:\n",
        "- Total number of flights\n",
        "- Average departure delay\n",
        "- Percentage of flights delayed more than 30 minutes\n",
        "\n",
        "Include airport names, not just codes."
      ]
    },
    {
      "cell_type": "code",
      "execution_count": 30,
      "metadata": {
        "colab": {
          "base_uri": "https://localhost:8080/"
        },
        "id": "KAd99peEr7CZ",
        "outputId": "fdd360a7-18d3-471e-9725-a80f2fe66c82"
      },
      "outputs": [
        {
          "output_type": "stream",
          "name": "stdout",
          "text": [
            "shape: (10, 5)\n",
            "┌─────────────────────┬──────────────────────┬───────────────┬───────────────┬─────────────────────┐\n",
            "│ origin_airport      ┆ dest_airport         ┆ total_flights ┆ avg_dep_delay ┆ pct_delayed_over_30 │\n",
            "│ ---                 ┆ ---                  ┆ ---           ┆ ---           ┆ ---                 │\n",
            "│ str                 ┆ str                  ┆ u32           ┆ f64           ┆ f64                 │\n",
            "╞═════════════════════╪══════════════════════╪═══════════════╪═══════════════╪═════════════════════╡\n",
            "│ John F Kennedy Intl ┆ Los Angeles Intl     ┆ 11262         ┆ 8.522508      ┆ 9.829515            │\n",
            "│ La Guardia          ┆ Hartsfield Jackson   ┆ 10263         ┆ 11.448621     ┆ 12.247881           │\n",
            "│                     ┆ Atlanta Int…         ┆               ┆               ┆                     │\n",
            "│ La Guardia          ┆ Chicago Ohare Intl   ┆ 8857          ┆ 10.740758     ┆ 13.345377           │\n",
            "│ John F Kennedy Intl ┆ San Francisco Intl   ┆ 8204          ┆ 11.952691     ┆ 12.116041           │\n",
            "│ La Guardia          ┆ Charlotte Douglas    ┆ 6168          ┆ 8.965321      ┆ 11.948768           │\n",
            "│                     ┆ Intl                 ┆               ┆               ┆                     │\n",
            "│ Newark Liberty Intl ┆ Chicago Ohare Intl   ┆ 6100          ┆ 14.644163     ┆ 16.0                │\n",
            "│ John F Kennedy Intl ┆ null                 ┆ 6049          ┆ 9.597871      ┆ 11.919326           │\n",
            "│ John F Kennedy Intl ┆ General Edward       ┆ 5898          ┆ 11.694953     ┆ 13.767379           │\n",
            "│                     ┆ Lawrence Logan …     ┆               ┆               ┆                     │\n",
            "│ La Guardia          ┆ Miami Intl           ┆ 5781          ┆ 7.361747      ┆ 9.462031            │\n",
            "│ John F Kennedy Intl ┆ Orlando Intl         ┆ 5464          ┆ 10.601583     ┆ 12.719619           │\n",
            "└─────────────────────┴──────────────────────┴───────────────┴───────────────┴─────────────────────┘\n"
          ]
        }
      ],
      "source": [
        "route_performance = flights.join(\n",
        "    airports.select(['faa', 'name']),\n",
        "    left_on='origin',\n",
        "    right_on='faa',\n",
        "    how='left'\n",
        ").rename({'name': 'origin_airport'})\n",
        "\n",
        "route_performance = route_performance.join(\n",
        "    airports.select(['faa', 'name']),\n",
        "    left_on='dest',\n",
        "    right_on='faa',\n",
        "    how='left'\n",
        ").rename({'name': 'dest_airport'})\n",
        "\n",
        "route_performance = route_performance.group_by(['origin_airport', 'dest_airport']).agg([\n",
        "    pl.len().alias('total_flights'),\n",
        "    pl.col('dep_delay').mean().alias('avg_dep_delay'),\n",
        "    (\n",
        "        (pl.col('dep_delay') > 30).sum().cast(pl.Float64) / pl.len().cast(pl.Float64) * 100\n",
        "    ).alias('pct_delayed_over_30')\n",
        "])\n",
        "\n",
        "result13_polars = route_performance.sort('total_flights', descending=True).limit(10)\n",
        "\n",
        "print(result13_polars)"
      ]
    },
    {
      "cell_type": "markdown",
      "metadata": {
        "id": "IH1PH0Kur7CZ"
      },
      "source": [
        "## Bonus: Compare with Polars\n",
        "\n",
        "### Choose one of the queries above and implement it using Polars\n",
        "\n",
        "This will help you understand the relationship between SQL and Polars operations."
      ]
    },
    {
      "cell_type": "code",
      "execution_count": null,
      "metadata": {
        "id": "4JjNXqW5r7CZ"
      },
      "outputs": [],
      "source": [
        "# Example: Let's implement Exercise 2.1 (average delay by origin) in Polars\n",
        "\n",
        "# SQL version (for reference)\n",
        "sql_result = ctx.execute(\"\"\"\n",
        "    SELECT\n",
        "        origin,\n",
        "        AVG(dep_delay) as avg_delay\n",
        "    FROM flights\n",
        "    WHERE dep_delay IS NOT NULL\n",
        "    GROUP BY origin\n",
        "    ORDER BY avg_delay DESC\n",
        "\"\"\")\n",
        "\n",
        "# Polars version\n",
        "polars_result = (\n",
        "    flights\n",
        "    .filter(pl.col('dep_delay').is_not_null())\n",
        "    .group_by('origin')\n",
        "    .agg(pl.col('dep_delay').mean().alias('avg_delay'))\n",
        "    .sort('avg_delay', descending=True)\n",
        ")\n",
        "\n",
        "print(\"SQL Result:\")\n",
        "print(sql_result)\n",
        "print(\"\\nPolars Result:\")\n",
        "print(polars_result)\n",
        "\n",
        "# Now implement one of your own queries in Polars below:\n",
        "# Your Polars code here"
      ]
    }
  ],
  "metadata": {
    "kernelspec": {
      "display_name": "Python 3",
      "language": "python",
      "name": "python3"
    },
    "language_info": {
      "codemirror_mode": {
        "name": "ipython",
        "version": 3
      },
      "file_extension": ".py",
      "mimetype": "text/x-python",
      "name": "python",
      "nbconvert_exporter": "python",
      "pygments_lexer": "ipython3",
      "version": "3.8.0"
    },
    "colab": {
      "provenance": []
    }
  },
  "nbformat": 4,
  "nbformat_minor": 0
}